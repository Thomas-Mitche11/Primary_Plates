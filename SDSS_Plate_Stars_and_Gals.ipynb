{
 "cells": [
  {
   "cell_type": "markdown",
   "metadata": {},
   "source": [
    "# APOGEE and MaNGA Plates Coding Activity\n",
    "_This python exercise notebook and acompanying python file(s) were designed by Thomas Mitchell, Spring 2024._\n",
    "\n",
    "Hello and welcome to your first step into working with real astronomy data. This interactive-notebook should guide you through some basic programing, and allow you to learn from the largest astronomical dataset in existence! Almost all of the difficult programing is done behind the scenes by the accompanying PrimaryPlates.Py file, so you can focus on exploring and playing with the data. "
   ]
  },
  {
   "cell_type": "markdown",
   "metadata": {},
   "source": [
    "## Jupyter notebooks and Python\n",
    "_These instructions are based on instructions from a notebook by Rita Tojeiro (University of St. Andrews)_\n",
    "\n",
    "Before we begin with the lab, it might be helpful to know the basics of Jupyter notebooks and python.\n",
    "\n",
    "Python is a computer programming language, and notebooks are applications (or apps) that allow you to run snippets of code and keep a record of your work - just like a Lab book. They are also useful ways to guide users through a pre-made work flow, and  that is the way we will use them here. \n",
    "\n",
    "Notebooks are divided into little boxes called cells. In our case we will use _code_ cells or _markdown_ cells. Code cells interpret and execute code, and markdown cells allow you to write down text - just as I am doing now. You don't really need to worry about this, but the important part is: **To run the code in a cell press shift+enter to execute (just pressing enter will give you a new line).** You can also clikc on the 'run' button at the top of the page. You'll need to run each of the cells in the notebook **in order**. If you do it our of order, then things can get broken or a little messy.\n",
    "\n",
    "If there's an error, you can try re-running the cell (click on the cell and hold shift+enter) or you can reset the entire notebook by double tapping the 0 key on your keyboard (or by clicking on the restart kernal button).\n",
    "\n",
    "\n",
    "\n",
    "\n",
    "If you're interested in learnign more about astronomy and coding, then feel free to follow these resources:\n",
    "\n",
    "### Python resources\n",
    "\n",
    "* [Python for Astronomers](https://prappleizer.github.io/index.html) A introduction to Python, aimed at complete beginners. Chapters 2, 4 and 7 are a good starting place for working with astronomical data. You can download the interactive tutorials and upload them onto SciServer to run them (select Python 2 if SciServer asks you for a Kernerl when you open the tutorial).\n",
    "\n",
    "* [Python Tutorial](http://docs.python.org/2/tutorial/) First stop reference for basic tasks (looping, string formating, classes, functions, etc). A good place to look for specific examples. Sections 3, 4 and 5 are the most relevant for this module, but go beyond what you will need here. \n",
    "* [Python Standard Library](http://docs.python.org/2/library/) The definitive reference for everything Python can do out of the box. Many common and not so common tasks are already taken care of. Not suitable for the complete beginner."
   ]
  },
  {
   "cell_type": "code",
   "execution_count": 1,
   "metadata": {},
   "outputs": [],
   "source": [
    "# Start by hitting shift+enter on these first 4 cells.\n",
    "# You should see a the box to the left fill up with a number once it's done"
   ]
  },
  {
   "cell_type": "code",
   "execution_count": 2,
   "metadata": {},
   "outputs": [],
   "source": [
    "import pandas as pd                 #These lines of code import all the 'hard' parts of the code\n",
    "import PrimaryPlates as PriPlates"
   ]
  },
  {
   "cell_type": "code",
   "execution_count": 3,
   "metadata": {},
   "outputs": [],
   "source": [
    "df = pd.read_csv('APOGEE_Plates.txt')\n",
    "df1 = pd.read_csv('MaNGA_Plates.txt')"
   ]
  },
  {
   "cell_type": "code",
   "execution_count": 4,
   "metadata": {},
   "outputs": [],
   "source": [
    "Plates, MJDs = PriPlates.APOGEE_MaNGA_Plate(df, df1)"
   ]
  },
  {
   "cell_type": "code",
   "execution_count": 5,
   "metadata": {},
   "outputs": [
    {
     "name": "stdout",
     "output_type": "stream",
     "text": [
      "Do you have an APOGEE/MaNGA Plate?\n"
     ]
    },
    {
     "data": {
      "application/vnd.jupyter.widget-view+json": {
       "model_id": "c8ed0e974710464897e12776f56472f7",
       "version_major": 2,
       "version_minor": 0
      },
      "text/plain": [
       "ToggleButtons(button_style='info', options=('Yes', 'No'), tooltips=('Enter the plate number in the cell below'…"
      ]
     },
     "metadata": {},
     "output_type": "display_data"
    },
    {
     "data": {
      "application/vnd.jupyter.widget-view+json": {
       "model_id": "f38dfac391ef4dc986b1422968ce7cce",
       "version_major": 2,
       "version_minor": 0
      },
      "text/plain": [
       "Output()"
      ]
     },
     "metadata": {},
     "output_type": "display_data"
    }
   ],
   "source": [
    "PriPlates.Assign_Plate(Plates)"
   ]
  },
  {
   "cell_type": "markdown",
   "metadata": {},
   "source": [
    "The above cell lets you choose what plate you'll be using for the rest of the notebook, or you can have it choose a random one for you. If you ever want to choose another plate, just re-run the above cell.\n",
    "\n",
    "If you have a plate, make sure that you click the set plate button and wait for it to turn green before moving on"
   ]
  },
  {
   "cell_type": "code",
   "execution_count": 6,
   "metadata": {},
   "outputs": [],
   "source": [
    "# This cell might take a little bit of time, \n",
    "# but it's getting all of the data from the SciServer database using your plate!\n",
    "\n",
    "\n",
    "stars, gals = PriPlates.Get_Star_Gal(PriPlates.plate)\n",
    "# stars, gals = PriPlates.Get_Star_Gal(8141) "
   ]
  },
  {
   "cell_type": "code",
   "execution_count": 7,
   "metadata": {},
   "outputs": [
    {
     "data": {
      "text/plain": [
       "8148"
      ]
     },
     "execution_count": 7,
     "metadata": {},
     "output_type": "execute_result"
    }
   ],
   "source": [
    "PriPlates.plate"
   ]
  },
  {
   "cell_type": "markdown",
   "metadata": {},
   "source": [
    "<details>\n",
    "  <summary><font><b> Click Here to see what each of the data means for Stars</b></font></summary>\n",
    "    \n",
    "  |Column Name| description | units |\n",
    "  |:---------| :---------:| :---------:|\n",
    "  |index :    | placement in the data set | None |\n",
    "  |ra :       | Right-ascension of object | Degree |\n",
    "  |dec :      | Declination of object | Degree |\n",
    "  |x :        | X-coordinate for plotting | None |\n",
    "  |y :        | Y-coordinate for plotting | None |\n",
    "  |mag_j :    | 2MASS J-band magnitude (brightness) | Magnitude |\n",
    "  |mag_k :    | 2MASS ks-band magnitude (brightness) | Magnitude |\n",
    "  |dist :     | Distance in pc | Parsecs |\n",
    "  |racen :    | Right-ascension of plate center | Degree |\n",
    "  |deccen :   | Declination of plate center | Degree |\n",
    "  |plate :    | Plate Number | None |\n",
    "  |radius :   | Radius of the plate (how big the plate is on the sky)| Degree |\n",
    "  |pmra :     | Proper motion in RA (movement of the star) | Milli-arc second/year |\n",
    "  |mass :     | Mass of the object | Solar masses |\n",
    "  |mass_err : | Error of masses | Solar masses |\n",
    "  |age :      | Age of object | Year |\n",
    "  |apogee_id :| 2MASS-style star identification | None |\n",
    "\n",
    "</details>"
   ]
  },
  {
   "cell_type": "code",
   "execution_count": 8,
   "metadata": {},
   "outputs": [
    {
     "data": {
      "text/html": [
       "<div>\n",
       "<style scoped>\n",
       "    .dataframe tbody tr th:only-of-type {\n",
       "        vertical-align: middle;\n",
       "    }\n",
       "\n",
       "    .dataframe tbody tr th {\n",
       "        vertical-align: top;\n",
       "    }\n",
       "\n",
       "    .dataframe thead th {\n",
       "        text-align: right;\n",
       "    }\n",
       "</style>\n",
       "<table border=\"1\" class=\"dataframe\">\n",
       "  <thead>\n",
       "    <tr style=\"text-align: right;\">\n",
       "      <th></th>\n",
       "      <th>ra</th>\n",
       "      <th>dec</th>\n",
       "      <th>x</th>\n",
       "      <th>y</th>\n",
       "      <th>mag_j</th>\n",
       "      <th>mag_k</th>\n",
       "      <th>dist</th>\n",
       "      <th>racen</th>\n",
       "      <th>deccen</th>\n",
       "      <th>plate</th>\n",
       "      <th>radius</th>\n",
       "      <th>pmra</th>\n",
       "      <th>mass</th>\n",
       "      <th>mass_err</th>\n",
       "      <th>age</th>\n",
       "      <th>apogee_id</th>\n",
       "    </tr>\n",
       "  </thead>\n",
       "  <tbody>\n",
       "    <tr>\n",
       "      <th>0</th>\n",
       "      <td>117.344450</td>\n",
       "      <td>28.360662</td>\n",
       "      <td>-194.759875</td>\n",
       "      <td>-72.422071</td>\n",
       "      <td>7.749</td>\n",
       "      <td>7.084</td>\n",
       "      <td>407.5206</td>\n",
       "      <td>118.357773</td>\n",
       "      <td>28.028048</td>\n",
       "      <td>8148</td>\n",
       "      <td>1.49</td>\n",
       "      <td>13.486150</td>\n",
       "      <td>1.270027</td>\n",
       "      <td>0.121585</td>\n",
       "      <td>4.943104e+09</td>\n",
       "      <td>2M07492266+2821383</td>\n",
       "    </tr>\n",
       "    <tr>\n",
       "      <th>1</th>\n",
       "      <td>119.809222</td>\n",
       "      <td>28.765139</td>\n",
       "      <td>278.967425</td>\n",
       "      <td>-160.491194</td>\n",
       "      <td>7.849</td>\n",
       "      <td>7.183</td>\n",
       "      <td>504.8240</td>\n",
       "      <td>118.357773</td>\n",
       "      <td>28.028048</td>\n",
       "      <td>8148</td>\n",
       "      <td>1.49</td>\n",
       "      <td>-13.622710</td>\n",
       "      <td>1.403286</td>\n",
       "      <td>0.140091</td>\n",
       "      <td>3.417466e+09</td>\n",
       "      <td>2M07591421+2845545</td>\n",
       "    </tr>\n",
       "    <tr>\n",
       "      <th>2</th>\n",
       "      <td>117.314587</td>\n",
       "      <td>28.480486</td>\n",
       "      <td>-200.499521</td>\n",
       "      <td>-98.512045</td>\n",
       "      <td>7.866</td>\n",
       "      <td>7.773</td>\n",
       "      <td>197.7439</td>\n",
       "      <td>118.357773</td>\n",
       "      <td>28.028048</td>\n",
       "      <td>8148</td>\n",
       "      <td>1.49</td>\n",
       "      <td>-24.652970</td>\n",
       "      <td>-9999.000000</td>\n",
       "      <td>-9999.000000</td>\n",
       "      <td>-9.999000e+03</td>\n",
       "      <td>2M07491550+2828497</td>\n",
       "    </tr>\n",
       "    <tr>\n",
       "      <th>3</th>\n",
       "      <td>117.874468</td>\n",
       "      <td>27.404657</td>\n",
       "      <td>-92.890820</td>\n",
       "      <td>135.734443</td>\n",
       "      <td>7.885</td>\n",
       "      <td>6.957</td>\n",
       "      <td>2063.1650</td>\n",
       "      <td>118.357773</td>\n",
       "      <td>28.028048</td>\n",
       "      <td>8148</td>\n",
       "      <td>1.49</td>\n",
       "      <td>-1.834146</td>\n",
       "      <td>1.341694</td>\n",
       "      <td>0.186116</td>\n",
       "      <td>3.679154e+09</td>\n",
       "      <td>2M07512987+2724167</td>\n",
       "    </tr>\n",
       "    <tr>\n",
       "      <th>4</th>\n",
       "      <td>119.659050</td>\n",
       "      <td>27.339605</td>\n",
       "      <td>250.104481</td>\n",
       "      <td>149.898592</td>\n",
       "      <td>7.917</td>\n",
       "      <td>7.188</td>\n",
       "      <td>793.7538</td>\n",
       "      <td>118.357773</td>\n",
       "      <td>28.028048</td>\n",
       "      <td>8148</td>\n",
       "      <td>1.49</td>\n",
       "      <td>-5.139725</td>\n",
       "      <td>1.442757</td>\n",
       "      <td>0.161119</td>\n",
       "      <td>2.983795e+09</td>\n",
       "      <td>2M07583817+2720225</td>\n",
       "    </tr>\n",
       "    <tr>\n",
       "      <th>...</th>\n",
       "      <td>...</td>\n",
       "      <td>...</td>\n",
       "      <td>...</td>\n",
       "      <td>...</td>\n",
       "      <td>...</td>\n",
       "      <td>...</td>\n",
       "      <td>...</td>\n",
       "      <td>...</td>\n",
       "      <td>...</td>\n",
       "      <td>...</td>\n",
       "      <td>...</td>\n",
       "      <td>...</td>\n",
       "      <td>...</td>\n",
       "      <td>...</td>\n",
       "      <td>...</td>\n",
       "      <td>...</td>\n",
       "    </tr>\n",
       "    <tr>\n",
       "      <th>244</th>\n",
       "      <td>118.873391</td>\n",
       "      <td>28.329584</td>\n",
       "      <td>99.101420</td>\n",
       "      <td>-65.655278</td>\n",
       "      <td>11.975</td>\n",
       "      <td>11.425</td>\n",
       "      <td>2316.7290</td>\n",
       "      <td>118.357773</td>\n",
       "      <td>28.028048</td>\n",
       "      <td>8148</td>\n",
       "      <td>1.49</td>\n",
       "      <td>-3.028514</td>\n",
       "      <td>1.352414</td>\n",
       "      <td>0.110843</td>\n",
       "      <td>3.029359e+09</td>\n",
       "      <td>2M07552961+2819465</td>\n",
       "    </tr>\n",
       "    <tr>\n",
       "      <th>245</th>\n",
       "      <td>118.229851</td>\n",
       "      <td>28.625235</td>\n",
       "      <td>-24.586478</td>\n",
       "      <td>-130.029085</td>\n",
       "      <td>11.984</td>\n",
       "      <td>11.188</td>\n",
       "      <td>14403.6900</td>\n",
       "      <td>118.357773</td>\n",
       "      <td>28.028048</td>\n",
       "      <td>8148</td>\n",
       "      <td>1.49</td>\n",
       "      <td>-0.720456</td>\n",
       "      <td>1.303151</td>\n",
       "      <td>0.173123</td>\n",
       "      <td>3.006684e+09</td>\n",
       "      <td>2M07525516+2837308</td>\n",
       "    </tr>\n",
       "    <tr>\n",
       "      <th>246</th>\n",
       "      <td>119.086471</td>\n",
       "      <td>26.993946</td>\n",
       "      <td>140.055234</td>\n",
       "      <td>225.160931</td>\n",
       "      <td>12.020</td>\n",
       "      <td>11.344</td>\n",
       "      <td>249.0606</td>\n",
       "      <td>118.357773</td>\n",
       "      <td>28.028048</td>\n",
       "      <td>8148</td>\n",
       "      <td>1.49</td>\n",
       "      <td>2.656877</td>\n",
       "      <td>0.684949</td>\n",
       "      <td>0.018769</td>\n",
       "      <td>-9.999000e+03</td>\n",
       "      <td>2M07562075+2659382</td>\n",
       "    </tr>\n",
       "    <tr>\n",
       "      <th>247</th>\n",
       "      <td>117.136971</td>\n",
       "      <td>28.709045</td>\n",
       "      <td>-234.637181</td>\n",
       "      <td>-148.277522</td>\n",
       "      <td>12.105</td>\n",
       "      <td>11.272</td>\n",
       "      <td>207.2274</td>\n",
       "      <td>118.357773</td>\n",
       "      <td>28.028048</td>\n",
       "      <td>8148</td>\n",
       "      <td>1.49</td>\n",
       "      <td>-16.237510</td>\n",
       "      <td>0.722497</td>\n",
       "      <td>0.019341</td>\n",
       "      <td>-9.999000e+03</td>\n",
       "      <td>2M07483287+2842325</td>\n",
       "    </tr>\n",
       "    <tr>\n",
       "      <th>248</th>\n",
       "      <td>116.963483</td>\n",
       "      <td>27.716427</td>\n",
       "      <td>-267.981442</td>\n",
       "      <td>67.850952</td>\n",
       "      <td>12.202</td>\n",
       "      <td>11.424</td>\n",
       "      <td>206.3419</td>\n",
       "      <td>118.357773</td>\n",
       "      <td>28.028048</td>\n",
       "      <td>8148</td>\n",
       "      <td>1.49</td>\n",
       "      <td>-10.538850</td>\n",
       "      <td>0.398532</td>\n",
       "      <td>0.010768</td>\n",
       "      <td>-9.999000e+03</td>\n",
       "      <td>2M07475123+2742591</td>\n",
       "    </tr>\n",
       "  </tbody>\n",
       "</table>\n",
       "<p>249 rows × 16 columns</p>\n",
       "</div>"
      ],
      "text/plain": [
       "             ra        dec           x           y   mag_j   mag_k  \\\n",
       "0    117.344450  28.360662 -194.759875  -72.422071   7.749   7.084   \n",
       "1    119.809222  28.765139  278.967425 -160.491194   7.849   7.183   \n",
       "2    117.314587  28.480486 -200.499521  -98.512045   7.866   7.773   \n",
       "3    117.874468  27.404657  -92.890820  135.734443   7.885   6.957   \n",
       "4    119.659050  27.339605  250.104481  149.898592   7.917   7.188   \n",
       "..          ...        ...         ...         ...     ...     ...   \n",
       "244  118.873391  28.329584   99.101420  -65.655278  11.975  11.425   \n",
       "245  118.229851  28.625235  -24.586478 -130.029085  11.984  11.188   \n",
       "246  119.086471  26.993946  140.055234  225.160931  12.020  11.344   \n",
       "247  117.136971  28.709045 -234.637181 -148.277522  12.105  11.272   \n",
       "248  116.963483  27.716427 -267.981442   67.850952  12.202  11.424   \n",
       "\n",
       "           dist       racen     deccen plate  radius       pmra         mass  \\\n",
       "0      407.5206  118.357773  28.028048  8148    1.49  13.486150     1.270027   \n",
       "1      504.8240  118.357773  28.028048  8148    1.49 -13.622710     1.403286   \n",
       "2      197.7439  118.357773  28.028048  8148    1.49 -24.652970 -9999.000000   \n",
       "3     2063.1650  118.357773  28.028048  8148    1.49  -1.834146     1.341694   \n",
       "4      793.7538  118.357773  28.028048  8148    1.49  -5.139725     1.442757   \n",
       "..          ...         ...        ...   ...     ...        ...          ...   \n",
       "244   2316.7290  118.357773  28.028048  8148    1.49  -3.028514     1.352414   \n",
       "245  14403.6900  118.357773  28.028048  8148    1.49  -0.720456     1.303151   \n",
       "246    249.0606  118.357773  28.028048  8148    1.49   2.656877     0.684949   \n",
       "247    207.2274  118.357773  28.028048  8148    1.49 -16.237510     0.722497   \n",
       "248    206.3419  118.357773  28.028048  8148    1.49 -10.538850     0.398532   \n",
       "\n",
       "        mass_err           age           apogee_id  \n",
       "0       0.121585  4.943104e+09  2M07492266+2821383  \n",
       "1       0.140091  3.417466e+09  2M07591421+2845545  \n",
       "2   -9999.000000 -9.999000e+03  2M07491550+2828497  \n",
       "3       0.186116  3.679154e+09  2M07512987+2724167  \n",
       "4       0.161119  2.983795e+09  2M07583817+2720225  \n",
       "..           ...           ...                 ...  \n",
       "244     0.110843  3.029359e+09  2M07552961+2819465  \n",
       "245     0.173123  3.006684e+09  2M07525516+2837308  \n",
       "246     0.018769 -9.999000e+03  2M07562075+2659382  \n",
       "247     0.019341 -9.999000e+03  2M07483287+2842325  \n",
       "248     0.010768 -9.999000e+03  2M07475123+2742591  \n",
       "\n",
       "[249 rows x 16 columns]"
      ]
     },
     "execution_count": 8,
     "metadata": {},
     "output_type": "execute_result"
    }
   ],
   "source": [
    "stars"
   ]
  },
  {
   "cell_type": "markdown",
   "metadata": {},
   "source": [
    "<details>\n",
    "  <summary><font><b> Click Here to see what each of the data means for Gals</b></font></summary>\n",
    "    \n",
    "  |Column Name| description | units |\n",
    "  |:---------| :---------:| :---------:|\n",
    "  |id :       | MaNGA ID for this object | None |\n",
    "  |ifudsgn :  | IFU design id (number of spectra) | None |\n",
    "  |ifura :    | Right-ascension of object | Degree |\n",
    "  |ifudec :   | Declination of object | Degree |\n",
    "  |nsa_elpetro_mass :| Mass of object | Solar masses |\n",
    "  |plate :    | Plate Number | None |\n",
    "  |dist :     | Distance in Mpc | Millions of Parsecs |\n",
    "  |x :        | X-coordinate for plotting | None |\n",
    "  |y :        | Y-coordinate for plotting | None |\n",
    "  |mag_r :    | Magnitude (brightness) of object in R-band| Mag |\n",
    "  |absmag_r :   | Absolute magnitude (actual brightness) of object in R-band| Mag |\n",
    "  |mag_g :     | Magnitude (brightness) of object in G-band| Mag |\n",
    "  |absmag_g :     | Absolute magnitude (actual brightness) of object in G-band| Mag |\n",
    "  |mag_u :     | Magnitude (brightness) of object in U-band| Mag |\n",
    "  |absmag_u :     | Absolute magnitude (actual brightness) of object in U-band| Mag |\n",
    "</details>"
   ]
  },
  {
   "cell_type": "code",
   "execution_count": 9,
   "metadata": {},
   "outputs": [
    {
     "data": {
      "text/html": [
       "<div>\n",
       "<style scoped>\n",
       "    .dataframe tbody tr th:only-of-type {\n",
       "        vertical-align: middle;\n",
       "    }\n",
       "\n",
       "    .dataframe tbody tr th {\n",
       "        vertical-align: top;\n",
       "    }\n",
       "\n",
       "    .dataframe thead th {\n",
       "        text-align: right;\n",
       "    }\n",
       "</style>\n",
       "<table border=\"1\" class=\"dataframe\">\n",
       "  <thead>\n",
       "    <tr style=\"text-align: right;\">\n",
       "      <th></th>\n",
       "      <th>id</th>\n",
       "      <th>ifudsgn</th>\n",
       "      <th>ifura</th>\n",
       "      <th>ifudec</th>\n",
       "      <th>nsa_elpetro_mass</th>\n",
       "      <th>plate</th>\n",
       "      <th>dist</th>\n",
       "      <th>x</th>\n",
       "      <th>y</th>\n",
       "      <th>mag_r</th>\n",
       "      <th>absmag_r</th>\n",
       "      <th>mag_g</th>\n",
       "      <th>absmag_g</th>\n",
       "      <th>mag_u</th>\n",
       "      <th>absmag_u</th>\n",
       "    </tr>\n",
       "  </thead>\n",
       "  <tbody>\n",
       "    <tr>\n",
       "      <th>0</th>\n",
       "      <td>1-584701</td>\n",
       "      <td>3704</td>\n",
       "      <td>119.77729</td>\n",
       "      <td>27.464012</td>\n",
       "      <td>2.001000e+10</td>\n",
       "      <td>8148</td>\n",
       "      <td>101.08070</td>\n",
       "      <td>272.830661</td>\n",
       "      <td>122.810830</td>\n",
       "      <td>13.948778</td>\n",
       "      <td>-20.3500</td>\n",
       "      <td>14.747317</td>\n",
       "      <td>-19.6270</td>\n",
       "      <td>16.470194</td>\n",
       "      <td>-18.0044</td>\n",
       "    </tr>\n",
       "    <tr>\n",
       "      <th>1</th>\n",
       "      <td>1-201354</td>\n",
       "      <td>1902</td>\n",
       "      <td>117.07596</td>\n",
       "      <td>28.036470</td>\n",
       "      <td>1.291180e+10</td>\n",
       "      <td>8148</td>\n",
       "      <td>121.81030</td>\n",
       "      <td>-246.362904</td>\n",
       "      <td>-1.833771</td>\n",
       "      <td>14.641971</td>\n",
       "      <td>-20.0940</td>\n",
       "      <td>15.025666</td>\n",
       "      <td>-19.7677</td>\n",
       "      <td>16.655050</td>\n",
       "      <td>-18.2940</td>\n",
       "    </tr>\n",
       "    <tr>\n",
       "      <th>2</th>\n",
       "      <td>1-201351</td>\n",
       "      <td>1901</td>\n",
       "      <td>116.99062</td>\n",
       "      <td>28.169325</td>\n",
       "      <td>1.421080e+10</td>\n",
       "      <td>8148</td>\n",
       "      <td>123.13790</td>\n",
       "      <td>-262.765187</td>\n",
       "      <td>-30.761061</td>\n",
       "      <td>14.688405</td>\n",
       "      <td>-20.0488</td>\n",
       "      <td>15.445416</td>\n",
       "      <td>-19.3642</td>\n",
       "      <td>17.079677</td>\n",
       "      <td>-17.8501</td>\n",
       "    </tr>\n",
       "    <tr>\n",
       "      <th>3</th>\n",
       "      <td>1-145823</td>\n",
       "      <td>12702</td>\n",
       "      <td>118.15857</td>\n",
       "      <td>28.026632</td>\n",
       "      <td>9.662530e+10</td>\n",
       "      <td>8148</td>\n",
       "      <td>306.34250</td>\n",
       "      <td>-38.286088</td>\n",
       "      <td>0.308314</td>\n",
       "      <td>14.745031</td>\n",
       "      <td>-22.0835</td>\n",
       "      <td>15.600541</td>\n",
       "      <td>-21.3775</td>\n",
       "      <td>17.324194</td>\n",
       "      <td>-19.8070</td>\n",
       "    </tr>\n",
       "    <tr>\n",
       "      <th>4</th>\n",
       "      <td>1-146104</td>\n",
       "      <td>6104</td>\n",
       "      <td>119.21034</td>\n",
       "      <td>28.375865</td>\n",
       "      <td>7.277740e+09</td>\n",
       "      <td>8148</td>\n",
       "      <td>96.96447</td>\n",
       "      <td>163.863304</td>\n",
       "      <td>-75.732213</td>\n",
       "      <td>14.860790</td>\n",
       "      <td>-19.3502</td>\n",
       "      <td>15.638047</td>\n",
       "      <td>-18.6356</td>\n",
       "      <td>17.043393</td>\n",
       "      <td>-17.3339</td>\n",
       "    </tr>\n",
       "    <tr>\n",
       "      <th>5</th>\n",
       "      <td>1-145806</td>\n",
       "      <td>9101</td>\n",
       "      <td>117.90207</td>\n",
       "      <td>27.379675</td>\n",
       "      <td>4.759620e+09</td>\n",
       "      <td>8148</td>\n",
       "      <td>119.91270</td>\n",
       "      <td>-87.585192</td>\n",
       "      <td>141.174014</td>\n",
       "      <td>14.920994</td>\n",
       "      <td>-19.7565</td>\n",
       "      <td>15.294103</td>\n",
       "      <td>-19.4087</td>\n",
       "      <td>16.334771</td>\n",
       "      <td>-18.5040</td>\n",
       "    </tr>\n",
       "    <tr>\n",
       "      <th>6</th>\n",
       "      <td>1-145802</td>\n",
       "      <td>9102</td>\n",
       "      <td>117.92570</td>\n",
       "      <td>27.607393</td>\n",
       "      <td>2.691080e+09</td>\n",
       "      <td>8148</td>\n",
       "      <td>118.39840</td>\n",
       "      <td>-83.043524</td>\n",
       "      <td>91.591653</td>\n",
       "      <td>15.240072</td>\n",
       "      <td>-19.4206</td>\n",
       "      <td>15.631422</td>\n",
       "      <td>-19.0210</td>\n",
       "      <td>16.719356</td>\n",
       "      <td>-18.0842</td>\n",
       "    </tr>\n",
       "    <tr>\n",
       "      <th>7</th>\n",
       "      <td>1-164064</td>\n",
       "      <td>12705</td>\n",
       "      <td>119.94553</td>\n",
       "      <td>27.965381</td>\n",
       "      <td>8.405730e+10</td>\n",
       "      <td>8148</td>\n",
       "      <td>363.87270</td>\n",
       "      <td>305.166261</td>\n",
       "      <td>13.644849</td>\n",
       "      <td>15.400724</td>\n",
       "      <td>-21.9730</td>\n",
       "      <td>16.349888</td>\n",
       "      <td>-21.0527</td>\n",
       "      <td>18.199252</td>\n",
       "      <td>-19.3078</td>\n",
       "    </tr>\n",
       "    <tr>\n",
       "      <th>8</th>\n",
       "      <td>1-146016</td>\n",
       "      <td>6101</td>\n",
       "      <td>118.83975</td>\n",
       "      <td>27.398571</td>\n",
       "      <td>3.800390e+10</td>\n",
       "      <td>8148</td>\n",
       "      <td>292.00390</td>\n",
       "      <td>92.636188</td>\n",
       "      <td>137.059678</td>\n",
       "      <td>15.529510</td>\n",
       "      <td>-21.1845</td>\n",
       "      <td>16.348105</td>\n",
       "      <td>-20.4754</td>\n",
       "      <td>18.189409</td>\n",
       "      <td>-18.8090</td>\n",
       "    </tr>\n",
       "    <tr>\n",
       "      <th>9</th>\n",
       "      <td>1-145958</td>\n",
       "      <td>3701</td>\n",
       "      <td>119.63374</td>\n",
       "      <td>27.828240</td>\n",
       "      <td>4.766210e+10</td>\n",
       "      <td>8148</td>\n",
       "      <td>307.65360</td>\n",
       "      <td>245.240461</td>\n",
       "      <td>43.505355</td>\n",
       "      <td>15.586988</td>\n",
       "      <td>-21.2845</td>\n",
       "      <td>16.522217</td>\n",
       "      <td>-20.4905</td>\n",
       "      <td>18.754982</td>\n",
       "      <td>-18.4025</td>\n",
       "    </tr>\n",
       "    <tr>\n",
       "      <th>10</th>\n",
       "      <td>1-146026</td>\n",
       "      <td>6103</td>\n",
       "      <td>118.61388</td>\n",
       "      <td>28.124721</td>\n",
       "      <td>1.108000e+09</td>\n",
       "      <td>8148</td>\n",
       "      <td>101.10670</td>\n",
       "      <td>49.224147</td>\n",
       "      <td>-21.049173</td>\n",
       "      <td>15.626583</td>\n",
       "      <td>-18.6731</td>\n",
       "      <td>15.963384</td>\n",
       "      <td>-18.3410</td>\n",
       "      <td>16.932895</td>\n",
       "      <td>-17.5133</td>\n",
       "    </tr>\n",
       "    <tr>\n",
       "      <th>11</th>\n",
       "      <td>1-201548</td>\n",
       "      <td>12701</td>\n",
       "      <td>118.10737</td>\n",
       "      <td>28.827409</td>\n",
       "      <td>5.243500e+10</td>\n",
       "      <td>8148</td>\n",
       "      <td>366.52210</td>\n",
       "      <td>-48.126689</td>\n",
       "      <td>-174.049507</td>\n",
       "      <td>15.631999</td>\n",
       "      <td>-21.6322</td>\n",
       "      <td>16.393487</td>\n",
       "      <td>-21.0042</td>\n",
       "      <td>17.814068</td>\n",
       "      <td>-19.7114</td>\n",
       "    </tr>\n",
       "    <tr>\n",
       "      <th>12</th>\n",
       "      <td>1-145871</td>\n",
       "      <td>3702</td>\n",
       "      <td>118.53117</td>\n",
       "      <td>27.691794</td>\n",
       "      <td>3.669080e+10</td>\n",
       "      <td>8148</td>\n",
       "      <td>289.38180</td>\n",
       "      <td>33.327348</td>\n",
       "      <td>73.214534</td>\n",
       "      <td>15.660675</td>\n",
       "      <td>-21.0306</td>\n",
       "      <td>16.565679</td>\n",
       "      <td>-20.2545</td>\n",
       "      <td>18.582110</td>\n",
       "      <td>-18.3845</td>\n",
       "    </tr>\n",
       "    <tr>\n",
       "      <th>13</th>\n",
       "      <td>1-201470</td>\n",
       "      <td>3703</td>\n",
       "      <td>118.49743</td>\n",
       "      <td>29.360605</td>\n",
       "      <td>2.789110e+10</td>\n",
       "      <td>8148</td>\n",
       "      <td>258.46570</td>\n",
       "      <td>26.842545</td>\n",
       "      <td>-290.145364</td>\n",
       "      <td>15.711937</td>\n",
       "      <td>-20.7635</td>\n",
       "      <td>16.553851</td>\n",
       "      <td>-20.0643</td>\n",
       "      <td>18.450913</td>\n",
       "      <td>-18.3385</td>\n",
       "    </tr>\n",
       "    <tr>\n",
       "      <th>14</th>\n",
       "      <td>1-145978</td>\n",
       "      <td>12703</td>\n",
       "      <td>119.35563</td>\n",
       "      <td>27.810579</td>\n",
       "      <td>5.757010e+10</td>\n",
       "      <td>8148</td>\n",
       "      <td>403.36290</td>\n",
       "      <td>191.787931</td>\n",
       "      <td>47.350787</td>\n",
       "      <td>15.805855</td>\n",
       "      <td>-21.6889</td>\n",
       "      <td>16.602309</td>\n",
       "      <td>-21.0304</td>\n",
       "      <td>18.140260</td>\n",
       "      <td>-19.6578</td>\n",
       "    </tr>\n",
       "    <tr>\n",
       "      <th>15</th>\n",
       "      <td>1-145988</td>\n",
       "      <td>12704</td>\n",
       "      <td>119.24912</td>\n",
       "      <td>27.754889</td>\n",
       "      <td>6.399580e+08</td>\n",
       "      <td>8148</td>\n",
       "      <td>78.45179</td>\n",
       "      <td>171.316790</td>\n",
       "      <td>59.476493</td>\n",
       "      <td>15.965723</td>\n",
       "      <td>-17.7769</td>\n",
       "      <td>16.368464</td>\n",
       "      <td>-17.3911</td>\n",
       "      <td>17.331876</td>\n",
       "      <td>-16.5601</td>\n",
       "    </tr>\n",
       "    <tr>\n",
       "      <th>16</th>\n",
       "      <td>1-145791</td>\n",
       "      <td>6102</td>\n",
       "      <td>117.84403</td>\n",
       "      <td>27.540881</td>\n",
       "      <td>1.025450e+09</td>\n",
       "      <td>8148</td>\n",
       "      <td>95.51418</td>\n",
       "      <td>-98.740436</td>\n",
       "      <td>106.073696</td>\n",
       "      <td>16.824077</td>\n",
       "      <td>-17.3316</td>\n",
       "      <td>17.353565</td>\n",
       "      <td>-16.8505</td>\n",
       "      <td>18.649912</td>\n",
       "      <td>-15.6547</td>\n",
       "    </tr>\n",
       "  </tbody>\n",
       "</table>\n",
       "</div>"
      ],
      "text/plain": [
       "          id ifudsgn      ifura     ifudec  nsa_elpetro_mass  plate  \\\n",
       "0   1-584701    3704  119.77729  27.464012      2.001000e+10   8148   \n",
       "1   1-201354    1902  117.07596  28.036470      1.291180e+10   8148   \n",
       "2   1-201351    1901  116.99062  28.169325      1.421080e+10   8148   \n",
       "3   1-145823   12702  118.15857  28.026632      9.662530e+10   8148   \n",
       "4   1-146104    6104  119.21034  28.375865      7.277740e+09   8148   \n",
       "5   1-145806    9101  117.90207  27.379675      4.759620e+09   8148   \n",
       "6   1-145802    9102  117.92570  27.607393      2.691080e+09   8148   \n",
       "7   1-164064   12705  119.94553  27.965381      8.405730e+10   8148   \n",
       "8   1-146016    6101  118.83975  27.398571      3.800390e+10   8148   \n",
       "9   1-145958    3701  119.63374  27.828240      4.766210e+10   8148   \n",
       "10  1-146026    6103  118.61388  28.124721      1.108000e+09   8148   \n",
       "11  1-201548   12701  118.10737  28.827409      5.243500e+10   8148   \n",
       "12  1-145871    3702  118.53117  27.691794      3.669080e+10   8148   \n",
       "13  1-201470    3703  118.49743  29.360605      2.789110e+10   8148   \n",
       "14  1-145978   12703  119.35563  27.810579      5.757010e+10   8148   \n",
       "15  1-145988   12704  119.24912  27.754889      6.399580e+08   8148   \n",
       "16  1-145791    6102  117.84403  27.540881      1.025450e+09   8148   \n",
       "\n",
       "         dist           x           y      mag_r  absmag_r      mag_g  \\\n",
       "0   101.08070  272.830661  122.810830  13.948778  -20.3500  14.747317   \n",
       "1   121.81030 -246.362904   -1.833771  14.641971  -20.0940  15.025666   \n",
       "2   123.13790 -262.765187  -30.761061  14.688405  -20.0488  15.445416   \n",
       "3   306.34250  -38.286088    0.308314  14.745031  -22.0835  15.600541   \n",
       "4    96.96447  163.863304  -75.732213  14.860790  -19.3502  15.638047   \n",
       "5   119.91270  -87.585192  141.174014  14.920994  -19.7565  15.294103   \n",
       "6   118.39840  -83.043524   91.591653  15.240072  -19.4206  15.631422   \n",
       "7   363.87270  305.166261   13.644849  15.400724  -21.9730  16.349888   \n",
       "8   292.00390   92.636188  137.059678  15.529510  -21.1845  16.348105   \n",
       "9   307.65360  245.240461   43.505355  15.586988  -21.2845  16.522217   \n",
       "10  101.10670   49.224147  -21.049173  15.626583  -18.6731  15.963384   \n",
       "11  366.52210  -48.126689 -174.049507  15.631999  -21.6322  16.393487   \n",
       "12  289.38180   33.327348   73.214534  15.660675  -21.0306  16.565679   \n",
       "13  258.46570   26.842545 -290.145364  15.711937  -20.7635  16.553851   \n",
       "14  403.36290  191.787931   47.350787  15.805855  -21.6889  16.602309   \n",
       "15   78.45179  171.316790   59.476493  15.965723  -17.7769  16.368464   \n",
       "16   95.51418  -98.740436  106.073696  16.824077  -17.3316  17.353565   \n",
       "\n",
       "    absmag_g      mag_u  absmag_u  \n",
       "0   -19.6270  16.470194  -18.0044  \n",
       "1   -19.7677  16.655050  -18.2940  \n",
       "2   -19.3642  17.079677  -17.8501  \n",
       "3   -21.3775  17.324194  -19.8070  \n",
       "4   -18.6356  17.043393  -17.3339  \n",
       "5   -19.4087  16.334771  -18.5040  \n",
       "6   -19.0210  16.719356  -18.0842  \n",
       "7   -21.0527  18.199252  -19.3078  \n",
       "8   -20.4754  18.189409  -18.8090  \n",
       "9   -20.4905  18.754982  -18.4025  \n",
       "10  -18.3410  16.932895  -17.5133  \n",
       "11  -21.0042  17.814068  -19.7114  \n",
       "12  -20.2545  18.582110  -18.3845  \n",
       "13  -20.0643  18.450913  -18.3385  \n",
       "14  -21.0304  18.140260  -19.6578  \n",
       "15  -17.3911  17.331876  -16.5601  \n",
       "16  -16.8505  18.649912  -15.6547  "
      ]
     },
     "execution_count": 9,
     "metadata": {},
     "output_type": "execute_result"
    }
   ],
   "source": [
    "gals"
   ]
  },
  {
   "cell_type": "markdown",
   "metadata": {},
   "source": [
    "The below cell is the first chance for you to mess around with the data. The different options let you choose between a digital version of your plate, and and image of the sky taken at night. You can also choose to show a number of holes on the plate or on the sky.\n",
    "\n",
    "See what you might notice after playing around with this for a little bit...\n",
    "\n",
    "On your plate there are a number of grouped-holes. You can add those by selecting 'yes' on the drop down menu. We'll see what makes those so special later"
   ]
  },
  {
   "cell_type": "code",
   "execution_count": 10,
   "metadata": {
    "scrolled": false
   },
   "outputs": [
    {
     "name": "stdout",
     "output_type": "stream",
     "text": [
      "Pick the number of holes to be displayed:\n"
     ]
    },
    {
     "data": {
      "application/vnd.jupyter.widget-view+json": {
       "model_id": "6daf1b777e3844d3a0db11c73db561f6",
       "version_major": 2,
       "version_minor": 0
      },
      "text/plain": [
       "ToggleButtons(button_style='info', index=3, options=(0, 15, 30, 45, 124, 249), value=45)"
      ]
     },
     "metadata": {},
     "output_type": "display_data"
    },
    {
     "data": {
      "application/vnd.jupyter.widget-view+json": {
       "model_id": "4968cc5b7a044d3a8fa00d09f4c60963",
       "version_major": 2,
       "version_minor": 0
      },
      "text/plain": [
       "Output()"
      ]
     },
     "metadata": {},
     "output_type": "display_data"
    },
    {
     "name": "stdout",
     "output_type": "stream",
     "text": [
      "Pick the background:\n"
     ]
    },
    {
     "data": {
      "application/vnd.jupyter.widget-view+json": {
       "model_id": "ca6acc4f1127466a99ef9b95bb8f75ea",
       "version_major": 2,
       "version_minor": 0
      },
      "text/plain": [
       "ToggleButtons(button_style='info', options=('Plate', 'Sky', 'Both'), tooltips=('A plot of the APOGEE/MaNGA pla…"
      ]
     },
     "metadata": {},
     "output_type": "display_data"
    },
    {
     "data": {
      "application/vnd.jupyter.widget-view+json": {
       "model_id": "4968cc5b7a044d3a8fa00d09f4c60963",
       "version_major": 2,
       "version_minor": 0
      },
      "text/plain": [
       "Output()"
      ]
     },
     "metadata": {},
     "output_type": "display_data"
    },
    {
     "data": {
      "application/vnd.jupyter.widget-view+json": {
       "model_id": "4135480f335e4d2b944d3316ab70a8f1",
       "version_major": 2,
       "version_minor": 0
      },
      "text/plain": [
       "interactive(children=(Dropdown(description='Galaxies', options=('Yes', 'No'), value='Yes'), Output()), _dom_cl…"
      ]
     },
     "metadata": {},
     "output_type": "display_data"
    }
   ],
   "source": [
    "PriPlates.star_sky_plot(stars, gals)"
   ]
  },
  {
   "cell_type": "markdown",
   "metadata": {},
   "source": [
    "<details>\n",
    "  <summary><font><b> Click Here for an explanation above the above cell </b></font></summary>\n",
    "    \n",
    "  As you might've noticed, the dots on the plate line up with some bright spots on the sky! A number of these spots are very dim, but you can look close to double check if they're there.\n",
    "    \n",
    "    \n",
    "  The night sky moves in a very regular pattern. Big metal plates, like the one you're using, were all custom made to look at the night sky on just one night each! Because the bright spots on the sky look really small, a robot was used to drill the holes. To find out more, you can go to <a href=\"https://voyages.sdss.org/preflight/sdss-plate-data/\">this link</a> and watch how they drill and prepare the plates!\n",
    "  \n",
    "    \n",
    "  Now, what are these dots in the green and blue holes? Do you think they're the same thing? It's hard to tell from just looking at the night sky\n",
    "  \n",
    "    \n",
    "</details>"
   ]
  },
  {
   "cell_type": "markdown",
   "metadata": {},
   "source": [
    "You'll probably notice the green and blue dots that are on the plate up above. If you have the real metal plate handy (or a photo of it) you might notice that the green dots line up with where there are a bunch of close holes connected by lines. This isn't a coincidence!! \n",
    "\n",
    "Most of the holes (the blue dots) were drilled to look at one type of object in the sky, and could do that by simply looking at the light that comes through the holes. The connected holes (the green dots) were made to look at a different type of object. This needed a different type of sensor to look at the objects, which required more holes to be drilled. \n",
    "\n",
    "But just looking at the sky image above, it's almost impossible to tell these dots apart just using your eyes! This is a problem that early astronomers had, where they couldn't tell the difference between different bright dots in the sky. By going to the next cell, you can see the dots up close and try to tell them apart.\n",
    "\n",
    "\n",
    "Compare the two different types of objects. See if you can make a list of similarities and differences. You can switch which of the holes you're looking through by using the drop down menu."
   ]
  },
  {
   "cell_type": "code",
   "execution_count": 11,
   "metadata": {
    "scrolled": false
   },
   "outputs": [
    {
     "name": "stdout",
     "output_type": "stream",
     "text": [
      "Pick Which Images are Displayed:\n"
     ]
    },
    {
     "data": {
      "application/vnd.jupyter.widget-view+json": {
       "model_id": "a8a9d5812c8d402cb5c8388c624d1fa1",
       "version_major": 2,
       "version_minor": 0
      },
      "text/plain": [
       "ToggleButtons(button_style='info', options=('Blue Circle', 'Green Circle', 'Both'), tooltips=('Displays one of…"
      ]
     },
     "metadata": {},
     "output_type": "display_data"
    },
    {
     "data": {
      "application/vnd.jupyter.widget-view+json": {
       "model_id": "a90ca5816a694875b4e4faca0f857155",
       "version_major": 2,
       "version_minor": 0
      },
      "text/plain": [
       "Output()"
      ]
     },
     "metadata": {},
     "output_type": "display_data"
    },
    {
     "data": {
      "application/vnd.jupyter.widget-view+json": {
       "model_id": "bb03e1d833104eadadaf1235be4feeeb",
       "version_major": 2,
       "version_minor": 0
      },
      "text/plain": [
       "interactive(children=(Dropdown(description='green_circle', options=(1, 2, 3, 4, 5, 6, 7, 8, 9, 10, 11, 12, 13,…"
      ]
     },
     "metadata": {},
     "output_type": "display_data"
    }
   ],
   "source": [
    "PriPlates.comp_IMG(stars, gals)"
   ]
  },
  {
   "cell_type": "markdown",
   "metadata": {},
   "source": [
    "<details>\n",
    "  <summary><font><b> Click Here for an explanation above the above cell </b></font></summary>\n",
    "    \n",
    "  Here you can see two different types of objects. You might've noticed differences in the colour between the two types of object, or maybe the shape. Both of these are very important to astronomers in figuring out what an object actually is in the sky. In this case, there are Stars on the left, which are circular, bright dots with spikes coming off; And Galaxies, which can either be kind of yellow-red and blob-like or bluer with a bit of a spiral. If you look back at the image of the full plate over the sky, you can hardly tell the difference between some of the blue dots and the green dots. That's why it's always important for astronomers to look at objects more closely. But sometimes, just looking closely isn't enough.\n",
    "  \n",
    "  If you're not quite sure the difference between stars and galaxies then you're in good company. It took nearly 1,000 years from the first known written observations of other galaxies (around 964 AD) to when astronomers realised what they were (around 1920s). The first galaxy to be discovered, and the easiest to see, is the one that we're in: The Milky Way, named such because the from our perspective here on Earth, the Milky Way looks almost like a large glass of spilled milk. As a fun fact: the word 'Galaxy' actually means 'milky circle'; The 'lax' has the same root as the word 'lactose'. \n",
    "  Much smaller milky-spots in the sky were eventually noticed, just like you noticed the dots on the sky! But to figure out what they truly were, and how they were different than stars, astronomers needed to look at more than just images. \n",
    "        \n",
    "</details>"
   ]
  },
  {
   "cell_type": "markdown",
   "metadata": {},
   "source": [
    "Just looking at the images, you can probably tell that objects in the blue circles, which are called stars, are different than the objects in the green circles, which are called galaxies. But, if you want to figure out what they actually are and not just the fact that they're different, you'll need to look at some of the other characteristics. \n",
    "\n",
    "Try to think of some ways that you might be able to learn more about the stars and galaxies and what type of questions that you might ask? If you're having trouble, imagine that you're trying to descrive your house to a friend that's never been there before. You'd probably first start with the shape or the colour of the house, but then you might talk about where it is, how big the house is or the things that you keep in it, you might even mention how bright the lights are. There are way more ways that you could describe it, but these are the sort of things that astronomers will ask about things in the sky; Namely, how far away is it?, How big is it? and How bright is it?"
   ]
  },
  {
   "cell_type": "code",
   "execution_count": 12,
   "metadata": {},
   "outputs": [
    {
     "data": {
      "application/vnd.jupyter.widget-view+json": {
       "model_id": "d55675fb9ae64e24a5db109d49c2ec8e",
       "version_major": 2,
       "version_minor": 0
      },
      "text/plain": [
       "interactive(children=(ToggleButtons(button_style='info', description='Analysis', options=('Distance', 'Mass', …"
      ]
     },
     "metadata": {},
     "output_type": "display_data"
    }
   ],
   "source": [
    "PriPlates.star_gal_analysis(stars, gals)"
   ]
  },
  {
   "cell_type": "markdown",
   "metadata": {},
   "source": [
    "<details>\n",
    "  <summary><font><b> Click Here for an explanation above the above cell </b></font></summary>\n",
    "    \n",
    "  Here we have three different methods of looking at the data. Each of these were gathered in different ways and each of these are extremely important for astronomers to use when looking at the sky\n",
    "    \n",
    "  **Distance**:\n",
    "  Distance to objects can be kind of hard to measure. You can't just take a measuring tape to the nearest star or galaxy, so astronomers have had to get a little clever. There are three main ways of measuring distance to stars. These are through *Parallax*, *Standard Candles* and *Redshift*. Each of these methods has their benifits and their drawbacks. <a href=\"https://vimeo.com/41434123.\">this video </a> has a great explanation of all of these distance measurements, but I'll also explain some of them here. *Parallax* was one of the first methods that astronomers used to figure out distances and it's still used today. In math class you might have learned some of the properties of right triangles; Namely, that if you know the length of one of the sides and you know any of the angles, then you can figure out the lengths of all the other sides. Now, as an experiment, stick your arm out and raise your finger, then use your other hand to cover one eye while keeping your finger in one place. Switch which eye you're covering and you might notice that your finger seems to move side to side. This apparent shift in position is caused because your eyes are an inch or two apart in your face. Astronomers noticed a similar shift in the stars as the Earth orbits the sun. Measuring the angle of this shift, astronomers could use the distance between the Earth and the Sun to caculate the distance to the stars! For a more in depth (and with visual aids) explanation, go to <a href=\"https://lco.global/spacebook/distance/parallax-and-distance-measurement/#:~:text=As%20the%20Earth%20orbits%20the,motion%20is%20called%20stellar%20parallax.\">this link</a>. *Parallax* is great for close objects, but becomes more difficult the farther away the object is. For really far objects, you'd need to use a different method. *Standard Candles* are a little bit different. As will be explained a bit later; how bright an object seems depends on how far away it is. If you know how bright an object is supposed to be, which astronomers call luminosity, then you can figure out how far away an object is by looking at how bright it appears to be here on Earth, which astronomers call Flux. You might be wondering how astronomers would know the luminosity, how bright an object is supposed to be. Well, there are a couple of special objects that get brighter and dimmer over time. The time it takes to do this is directly related to their luminosity. It's fairly easy to measure the time between dimming, which then makes it easy enough to measure the luminosity and use that to find the distance! Still, though, really far objects like galaxies, that's still not enough. For that, astronomers need *Redshift*. It was discovered, not too long ago, that the universe is constantly expanding. That means that galaxies are actually moving away from us and how fast they move depends on how fa away they are from us. As they move aways, it looks like they are getting redder, due to something called the Doppler effect. By looking at how red a galaxy has gotten, you can figure out how fast it's moving. By knowing how fast they're moving, you can figure out how far away they are.\n",
    "    \n",
    "  **Mass**: Mass is roughly how much physical stuff there is in one place. This is pretty hard to measure, but it can be done through knowing some other features that depend on mass. The true brightness, or luminosity, of an object is related to the amount of light that it gives off. This works pretty well for stars to figure out their mass. Another indirect way of measuring mass is through gravity. Gravity, which is affected by mass, is what causes planets and stars to orbit eachother. Seeing how fast things orbit can tell you how massive the overall object is! This is great for looking at galaxies, which have lots of mass.\n",
    "    \n",
    "    \n",
    " **Brightness**: Here we're using two different types of brightness. There's *Flux*, which is how bright an object looks from here on Earth. Then there's *Luminosity*, which is how bright the object actually is. *Flux* depends on how far away the object is from Earth, while *luminosity* depneds only on the properties of the object itself. Because of this, astronomers are usually a lot more interested in *luminosity*, since that tells us more about the object that we're looking at. \n",
    "  \n",
    "  \n",
    "    \n",
    "</details>"
   ]
  },
  {
   "cell_type": "markdown",
   "metadata": {},
   "source": [
    "Now with all of that out of the way, you hopefully have a better idea of how to tell two objects apart in space. But, that still begs the question of what is a star and what is a galaxy? You might have been able to figure it out by now, but a galaxy is just a bunch of stars together! That's why they're so much more massive and so much more luminous. The stars are all orbit around the centre of the galaxy (just like how the planets orbit the Sun). All the stars we were looking at are within the Milky Way Galaxy. The other galaxies all need to be super far away compared to the stars so that they don't get caught and start orbiting the centre of the Milky Way. \n",
    "\n",
    "If you're interested in this and want to learn more, you can try playing around with the program some more, or try some different plate numbers, just remember to reset the Kernel by either clicking on 'Kernel' then 'reset' or by double pressing 0."
   ]
  },
  {
   "cell_type": "code",
   "execution_count": null,
   "metadata": {},
   "outputs": [],
   "source": []
  }
 ],
 "metadata": {
  "kernelspec": {
   "display_name": "Python 3.8 (py38)",
   "language": "python",
   "name": "py38"
  },
  "language_info": {
   "codemirror_mode": {
    "name": "ipython",
    "version": 3
   },
   "file_extension": ".py",
   "mimetype": "text/x-python",
   "name": "python",
   "nbconvert_exporter": "python",
   "pygments_lexer": "ipython3",
   "version": "3.8.5"
  }
 },
 "nbformat": 4,
 "nbformat_minor": 2
}
